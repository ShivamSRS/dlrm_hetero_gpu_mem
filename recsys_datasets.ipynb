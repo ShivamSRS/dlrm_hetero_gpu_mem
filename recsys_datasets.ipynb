{
 "cells": [
  {
   "cell_type": "code",
   "execution_count": 1,
   "metadata": {},
   "outputs": [
    {
     "name": "stdout",
     "output_type": "stream",
     "text": [
      "Requirement already satisfied: torchrec in /home/kvshetenex/anaconda3/envs/learn_pyytorch/lib/python3.10/site-packages (0.4.0)\n",
      "Requirement already satisfied: pandas in /home/kvshetenex/anaconda3/envs/learn_pyytorch/lib/python3.10/site-packages (from torchrec) (2.0.0)\n",
      "Requirement already satisfied: torchmetrics in /home/kvshetenex/anaconda3/envs/learn_pyytorch/lib/python3.10/site-packages (from torchrec) (0.11.4)\n",
      "Requirement already satisfied: fbgemm-gpu in /home/kvshetenex/anaconda3/envs/learn_pyytorch/lib/python3.10/site-packages (from torchrec) (0.4.1)\n",
      "Requirement already satisfied: tqdm in /home/kvshetenex/anaconda3/envs/learn_pyytorch/lib/python3.10/site-packages (from torchrec) (4.65.0)\n",
      "Requirement already satisfied: iopath in /home/kvshetenex/anaconda3/envs/learn_pyytorch/lib/python3.10/site-packages (from torchrec) (0.1.10)\n",
      "Requirement already satisfied: tabulate in /home/kvshetenex/anaconda3/envs/learn_pyytorch/lib/python3.10/site-packages (from torchrec) (0.9.0)\n",
      "Requirement already satisfied: portalocker in /home/kvshetenex/anaconda3/envs/learn_pyytorch/lib/python3.10/site-packages (from iopath->torchrec) (2.7.0)\n",
      "Requirement already satisfied: typing-extensions in /home/kvshetenex/anaconda3/envs/learn_pyytorch/lib/python3.10/site-packages (from iopath->torchrec) (4.4.0)\n",
      "Requirement already satisfied: python-dateutil>=2.8.2 in /home/kvshetenex/anaconda3/envs/learn_pyytorch/lib/python3.10/site-packages (from pandas->torchrec) (2.8.2)\n",
      "Requirement already satisfied: numpy>=1.21.0 in /home/kvshetenex/anaconda3/envs/learn_pyytorch/lib/python3.10/site-packages (from pandas->torchrec) (1.23.5)\n",
      "Requirement already satisfied: pytz>=2020.1 in /home/kvshetenex/anaconda3/envs/learn_pyytorch/lib/python3.10/site-packages (from pandas->torchrec) (2023.3)\n",
      "Requirement already satisfied: tzdata>=2022.1 in /home/kvshetenex/anaconda3/envs/learn_pyytorch/lib/python3.10/site-packages (from pandas->torchrec) (2023.3)\n",
      "Requirement already satisfied: packaging in /home/kvshetenex/anaconda3/envs/learn_pyytorch/lib/python3.10/site-packages (from torchmetrics->torchrec) (23.0)\n",
      "Requirement already satisfied: torch>=1.8.1 in /home/kvshetenex/anaconda3/envs/learn_pyytorch/lib/python3.10/site-packages (from torchmetrics->torchrec) (2.0.0)\n",
      "Requirement already satisfied: six>=1.5 in /home/kvshetenex/anaconda3/envs/learn_pyytorch/lib/python3.10/site-packages (from python-dateutil>=2.8.2->pandas->torchrec) (1.16.0)\n",
      "Requirement already satisfied: filelock in /home/kvshetenex/anaconda3/envs/learn_pyytorch/lib/python3.10/site-packages (from torch>=1.8.1->torchmetrics->torchrec) (3.9.0)\n",
      "Requirement already satisfied: sympy in /home/kvshetenex/anaconda3/envs/learn_pyytorch/lib/python3.10/site-packages (from torch>=1.8.1->torchmetrics->torchrec) (1.11.1)\n",
      "Requirement already satisfied: networkx in /home/kvshetenex/anaconda3/envs/learn_pyytorch/lib/python3.10/site-packages (from torch>=1.8.1->torchmetrics->torchrec) (2.8.4)\n",
      "Requirement already satisfied: jinja2 in /home/kvshetenex/anaconda3/envs/learn_pyytorch/lib/python3.10/site-packages (from torch>=1.8.1->torchmetrics->torchrec) (3.1.2)\n",
      "Requirement already satisfied: MarkupSafe>=2.0 in /home/kvshetenex/anaconda3/envs/learn_pyytorch/lib/python3.10/site-packages (from jinja2->torch>=1.8.1->torchmetrics->torchrec) (2.1.1)\n",
      "Requirement already satisfied: mpmath>=0.19 in /home/kvshetenex/anaconda3/envs/learn_pyytorch/lib/python3.10/site-packages/mpmath-1.2.1-py3.10.egg (from sympy->torch>=1.8.1->torchmetrics->torchrec) (1.2.1)\n"
     ]
    }
   ],
   "source": [
    "!pip3 install torchrec"
   ]
  },
  {
   "cell_type": "code",
   "execution_count": null,
   "metadata": {},
   "outputs": [],
   "source": []
  }
 ],
 "metadata": {
  "kernelspec": {
   "display_name": "learn_pyytorch",
   "language": "python",
   "name": "python3"
  },
  "language_info": {
   "codemirror_mode": {
    "name": "ipython",
    "version": 3
   },
   "file_extension": ".py",
   "mimetype": "text/x-python",
   "name": "python",
   "nbconvert_exporter": "python",
   "pygments_lexer": "ipython3",
   "version": "3.10.10"
  },
  "orig_nbformat": 4
 },
 "nbformat": 4,
 "nbformat_minor": 2
}
